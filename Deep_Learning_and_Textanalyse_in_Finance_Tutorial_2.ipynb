{
  "nbformat": 4,
  "nbformat_minor": 0,
  "metadata": {
    "colab": {
      "provenance": [],
      "authorship_tag": "ABX9TyOxll3EwWnoCsg8OcVFqwTM",
      "include_colab_link": true
    },
    "kernelspec": {
      "name": "python3",
      "display_name": "Python 3"
    },
    "language_info": {
      "name": "python"
    }
  },
  "cells": [
    {
      "cell_type": "markdown",
      "metadata": {
        "id": "view-in-github",
        "colab_type": "text"
      },
      "source": [
        "<a href=\"https://colab.research.google.com/github/NoorNabi50/-Deep-Learning-und-Textanalyse-in-Finance-Exercises/blob/main/Deep_Learning_and_Textanalyse_in_Finance_Tutorial_2.ipynb\" target=\"_parent\"><img src=\"https://colab.research.google.com/assets/colab-badge.svg\" alt=\"Open In Colab\"/></a>"
      ]
    },
    {
      "cell_type": "code",
      "execution_count": null,
      "metadata": {
        "colab": {
          "base_uri": "https://localhost:8080/"
        },
        "id": "DdsrfQH3MbNK",
        "outputId": "c9d971cd-add2-498c-ba7e-9e2ea55e3569"
      },
      "outputs": [
        {
          "output_type": "stream",
          "name": "stdout",
          "text": [
            "[[ 10  15  23  31  39]\n",
            " [ 15  25  35  45  55]\n",
            " [ 23  35  53  71  89]\n",
            " [ 31  45  71  97 123]\n",
            " [ 39  55  89 123 157]]\n"
          ]
        }
      ],
      "source": [
        "import numpy as np\n",
        "\n",
        "A = np.array([[1,2,3],[4,5,6],[7,8,9]])\n",
        "\n",
        "B = np.array([[2,4,6,8],[1,3,5,7],[9,11,13,15]])\n",
        "\n",
        "C = np.array([[1,0,2,4,6],[3,5,7,9,11]])\n",
        "\n",
        "D = np.array([[1,3,5,7],[2,4,6,8],[9,11,13,15],[10,12,14,16]])\n",
        "\n",
        "At = np.transpose(A)\n",
        "Bt = np.transpose(B)\n",
        "Ct = np.transpose(C)\n",
        "Dt = np.transpose(D)\n",
        "#Task 1: Transpose matrices A, B, C, D\n",
        "\n",
        "#print(At)\n",
        "#print(Bt)\n",
        "#print(Ct)\n",
        "#print(Dt)\n",
        "\n",
        "#Task 2a:\n",
        "#print(np.dot(A,A.T))\n",
        "\n",
        "#Task 2b:\n",
        "\n",
        "#print(np.dot(A,B.T))\n",
        "\n",
        "#Task 2c\n",
        "#print(np.dot(At,B))\n",
        "\n",
        "#Task 2d:\n",
        "#print(np.dot(B,Dt))\n",
        "\n",
        "#Task 2e:\n",
        "#print(np.dot(Bt,A))\n",
        "\n",
        "#Task 2f:\n",
        "#print(np.dot(Bt,At))\n",
        "\n",
        "#Task 2g:\n",
        "#print(np.dot(C,Ct))\n",
        "\n",
        "#Task 2h:\n",
        "print(np.dot(Ct,C))"
      ]
    }
  ]
}